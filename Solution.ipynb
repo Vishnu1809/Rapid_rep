{
 "cells": [
  {
   "cell_type": "code",
   "execution_count": 14,
   "metadata": {},
   "outputs": [
    {
     "name": "stdout",
     "output_type": "stream",
     "text": [
      "Enter the string: add\n",
      "Length of the unique string 1\n",
      "Length of the old string 3\n",
      "Yes can form palindrome by rearranging\n"
     ]
    }
   ],
   "source": [
    "string = input(\"Enter the string: \")\n",
    "unique_string = []\n",
    "# Finding the unique element of the string.\n",
    "for i in range(len(string)): \n",
    "    if (string[i] in unique_string): \n",
    "        unique_string.remove(string[i]) \n",
    "    else: \n",
    "        unique_string.append(string[i]) \n",
    "print(\"Length of the unique string\", len(unique_string))\n",
    "print(\"Length of the old string\", len(string))\n",
    "\n",
    "# The concept over here is if the modulus of length of the string is zero (that is if the length is even) and\n",
    "# the new length of the string is 0 OR if the length of the string is odd and new length of the string is 1 \n",
    "# then the palindrome is formed by rearranging.\n",
    "\n",
    "if ((len(string)%2 == 0) and (len(unique_string) == 0) or (len(string)%2 == 1) and (len(unique_string) == 1)):\n",
    "    print(\"Yes can form palindrome by rearranging\")\n",
    "else:\n",
    "    print(\"No cannot be formed\")"
   ]
  },
  {
   "cell_type": "code",
   "execution_count": null,
   "metadata": {},
   "outputs": [],
   "source": []
  }
 ],
 "metadata": {
  "kernelspec": {
   "display_name": "Python 3",
   "language": "python",
   "name": "python3"
  },
  "language_info": {
   "codemirror_mode": {
    "name": "ipython",
    "version": 3
   },
   "file_extension": ".py",
   "mimetype": "text/x-python",
   "name": "python",
   "nbconvert_exporter": "python",
   "pygments_lexer": "ipython3",
   "version": "3.7.4"
  }
 },
 "nbformat": 4,
 "nbformat_minor": 2
}
