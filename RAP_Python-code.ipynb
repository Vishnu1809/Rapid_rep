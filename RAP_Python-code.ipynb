{
 "cells": [
  {
   "cell_type": "markdown",
   "metadata": {},
   "source": [
    "## Question 1"
   ]
  },
  {
   "cell_type": "code",
   "execution_count": 1,
   "metadata": {},
   "outputs": [
    {
     "name": "stdout",
     "output_type": "stream",
     "text": [
      "Enter the number as input:- 20\n",
      "1\n",
      "2\n",
      "Fizz\n",
      "4\n",
      "Buzz\n",
      "Fizz\n",
      "7\n",
      "8\n",
      "Fizz\n",
      "Buzz\n",
      "11\n",
      "Fizz\n",
      "13\n",
      "14\n",
      "FizzBuzz\n",
      "16\n",
      "17\n",
      "Fizz\n",
      "19\n",
      "Buzz\n"
     ]
    }
   ],
   "source": [
    "\n",
    "N = int(input(\"Enter the number as input:- \"))\n",
    "\n",
    "\n",
    "for i in range (1,N+1):\n",
    "    if (i%3 == i%5 == 0):\n",
    "        print(\"FizzBuzz\")\n",
    "    elif (i%3==0):\n",
    "        print(\"Fizz\")\n",
    "    elif (i%5==0):\n",
    "        print(\"Buzz\")\n",
    "    else:\n",
    "        print(i)"
   ]
  },
  {
   "cell_type": "markdown",
   "metadata": {},
   "source": [
    "## Question 2"
   ]
  },
  {
   "cell_type": "code",
   "execution_count": 2,
   "metadata": {},
   "outputs": [
    {
     "name": "stdout",
     "output_type": "stream",
     "text": [
      "1 repeats  4 times \n",
      "2 repeats  2 times \n",
      "5 repeats  3 times \n",
      "8 repeats  2 times \n",
      "4 repeats  2 times \n"
     ]
    }
   ],
   "source": [
    "lst = [1, 2, 3, 5, 8, 4, 7, 9, 1, 4, 12, 5, 6, 5, 2, 1, 0, 8, 1]\n",
    "output = []\n",
    "\n",
    "class CountX:\n",
    "    def arr(lt, x):\n",
    "        count = 0\n",
    "        for i in lt:\n",
    "            if (i == x):\n",
    "                count = count + 1\n",
    "        return count\n",
    "\n",
    "    def uniqueval(lt):\n",
    "        for i in lst:\n",
    "            if i not in output:\n",
    "                output.append(i)\n",
    "\n",
    "\n",
    "        for x in output:\n",
    "            b = CountX.arr(lst,x)\n",
    "            if (b != 1 ):\n",
    "                k = CountX.arr(lst,x)\n",
    "                print(x, \"repeats \", b, \"times \")\n",
    "\n",
    "\n",
    "CountX.uniqueval(lst) "
   ]
  },
  {
   "cell_type": "markdown",
   "metadata": {},
   "source": [
    "## Question 3"
   ]
  },
  {
   "cell_type": "code",
   "execution_count": 3,
   "metadata": {},
   "outputs": [
    {
     "name": "stdout",
     "output_type": "stream",
     "text": [
      "The total amount is  275\n"
     ]
    }
   ],
   "source": [
    "def total(amount_paid):\n",
    "    total = 0\n",
    "    for i in dict:\n",
    "        total = total+ dict[i]\n",
    "        \n",
    "    return total\n",
    "\n",
    "dict = {\"Rick\": 85, \"Amit\": 42, \"George\": 53, \"Tanya\": 60, \"Linda\": 35} # Given \n",
    "\n",
    "a = total(dict)\n",
    "print(\"The total amount is \", a)"
   ]
  },
  {
   "cell_type": "markdown",
   "metadata": {},
   "source": [
    "## Question 4"
   ]
  },
  {
   "cell_type": "code",
   "execution_count": 4,
   "metadata": {},
   "outputs": [
    {
     "name": "stdout",
     "output_type": "stream",
     "text": [
      "The Score of 1st batsman is:-  4\n",
      "The score of 2nd batsman is:-  16\n",
      "Total Score is:- 20\n"
     ]
    }
   ],
   "source": [
    "sum1 = 0\n",
    "sum2 = 0\n",
    "a = [1,2,0,0,4,1,6,2,1,3]\n",
    "\n",
    "for i in range (0,len(a)):\n",
    "    \n",
    "    if ((a[i]%2 == 1) and (i <=6)):\n",
    "        sum1 = sum1+a[i]\n",
    "    \n",
    "    elif ((a[i]%2 == 0) and (i <=6)):\n",
    "        sum2 = sum2+a[i]\n",
    "               \n",
    "    elif ((a[i]%2 == 1) and (i >6)):\n",
    "        sum2 = sum2 +a[i]\n",
    "    elif ((a[i]%2 == 0) and (i >6)):\n",
    "        sum1 = sum1 +a[i]\n",
    "               \n",
    "        \n",
    "print(\"The Score of 1st batsman is:- \",sum1)\n",
    "print(\"The score of 2nd batsman is:- \",sum2)\n",
    "print(\"Total Score is:-\", sum1+sum2)\n",
    "\n",
    "        "
   ]
  }
 ],
 "metadata": {
  "kernelspec": {
   "display_name": "Python 3",
   "language": "python",
   "name": "python3"
  },
  "language_info": {
   "codemirror_mode": {
    "name": "ipython",
    "version": 3
   },
   "file_extension": ".py",
   "mimetype": "text/x-python",
   "name": "python",
   "nbconvert_exporter": "python",
   "pygments_lexer": "ipython3",
   "version": "3.7.4"
  }
 },
 "nbformat": 4,
 "nbformat_minor": 2
}
