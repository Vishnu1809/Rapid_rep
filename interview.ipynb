{
 "cells": [
  {
   "cell_type": "code",
   "execution_count": 6,
   "metadata": {},
   "outputs": [
    {
     "name": "stdout",
     "output_type": "stream",
     "text": [
      "enter str: eng\n",
      "NO\n"
     ]
    }
   ],
   "source": [
    "def rev(a):\n",
    "    return a[::-1]\n",
    "\n",
    "def paln(a):\n",
    "    r = rev(a)\n",
    "    if (a == r):\n",
    "        return True\n",
    "    return False\n",
    "        \n",
    "\n",
    "op = input(\"enter str: \" )\n",
    "x = paln(a)\n",
    "if x:\n",
    "    print(\"yes\")\n",
    "else:\n",
    "    print(\"NO\")"
   ]
  },
  {
   "cell_type": "code",
   "execution_count": 7,
   "metadata": {},
   "outputs": [],
   "source": [
    "li=[{\n",
    "    \"id\":1,\n",
    "    \"name\":\"john\",\n",
    "    \"physics\":75,\n",
    "    \"chemistry\":45,\n",
    "},{\n",
    "    \"id\":2,\n",
    "    \"name\":\"Doe\",\n",
    "    \"physics\":35,\n",
    "    \"chemistry\":44,\n",
    "},{\n",
    "    \"id\":3,\n",
    "    \"name\":\"Harry\",\n",
    "    \"physics\":78,\n",
    "    \"chemistry\":97,\n",
    "}]\n"
   ]
  },
  {
   "cell_type": "code",
   "execution_count": 31,
   "metadata": {},
   "outputs": [
    {
     "name": "stdout",
     "output_type": "stream",
     "text": [
      "[{'id': 1, 'total': 120}, {'id': 2, 'total': 79}, {'id': 3, 'total': 175}]\n"
     ]
    }
   ],
   "source": [
    "d = []\n",
    "for i in li:\n",
    "    dicto = {\"id\": i['id'],\"total\": (i['physics']+i['chemistry'])}\n",
    "    d.append(dicto)\n",
    "\n",
    "print(d)\n",
    "    "
   ]
  },
  {
   "cell_type": "code",
   "execution_count": 69,
   "metadata": {},
   "outputs": [
    {
     "name": "stdout",
     "output_type": "stream",
     "text": [
      "153\n"
     ]
    }
   ],
   "source": [
    "# x = \n",
    "# len(X), x**len(x)\n",
    "x = 153\n",
    "ln = len(str(x))\n",
    "tot = 0\n",
    "for i in str(x):\n",
    "    tot += int(i)**ln\n",
    "    \n",
    "    \n",
    "print(tot)\n"
   ]
  }
 ],
 "metadata": {
  "kernelspec": {
   "display_name": "Python 3",
   "language": "python",
   "name": "python3"
  },
  "language_info": {
   "codemirror_mode": {
    "name": "ipython",
    "version": 3
   },
   "file_extension": ".py",
   "mimetype": "text/x-python",
   "name": "python",
   "nbconvert_exporter": "python",
   "pygments_lexer": "ipython3",
   "version": "3.7.4"
  }
 },
 "nbformat": 4,
 "nbformat_minor": 2
}
